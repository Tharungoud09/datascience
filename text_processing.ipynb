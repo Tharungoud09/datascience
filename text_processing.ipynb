{
 "cells": [
  {
   "cell_type": "code",
   "execution_count": 6,
   "id": "c4df18cc-446a-46e8-a8f8-dc2f5ab19186",
   "metadata": {},
   "outputs": [],
   "source": [
    "punc_marks = ['.',',','\"','{','}',':',';','-','?','/','!',\"'\",'[',']','*','$','&','(',')','#','_','@','%','^','=','+','/']"
   ]
  },
  {
   "cell_type": "code",
   "execution_count": 7,
   "id": "9b341119-0da0-4d78-a7c0-2997ff14ec14",
   "metadata": {},
   "outputs": [],
   "source": [
    "input = \"Hello, *^$ World! lets remove punc_marks: shall we?\"\n"
   ]
  },
  {
   "cell_type": "code",
   "execution_count": 34,
   "id": "0550d617-a262-45fc-9581-66ef2b3486a7",
   "metadata": {},
   "outputs": [],
   "source": [
    "def remove_punc(input):\n",
    "    punc_marks = ['.',',','\"','{','}',':',';','-','?','/','!',\"'\",'[',']','*','$','&','(',')','#','_','@','%','^','=','+','/']\n",
    "    empty = \"\"\n",
    "    for i in input:\n",
    "        if i not in  punc_marks:\n",
    "            empty += i\n",
    "    return empty\n",
    "\n"
   ]
  },
  {
   "cell_type": "code",
   "execution_count": 74,
   "id": "446c25be-a7df-48ef-8e46-101fe260d523",
   "metadata": {},
   "outputs": [
    {
     "name": "stdout",
     "output_type": "stream",
     "text": [
      "So... what's next?: new adventure trip goa?\n"
     ]
    }
   ],
   "source": [
    "def remove_stop_words(input_text):\n",
    "    stop_words = [\"a\", \"an\", \"the\", \"and\", \"or\", \"but\", \"in\", \"on\", \"at\", \"to\", \"from\", \"so\",]\n",
    "    \n",
    "    words = input_text.split()\n",
    "    output_text = [word for word in words if word.lower() not in stop_words]\n",
    "\n",
    "    return ' '.join(output_text)\n",
    "\n",
    "input_texts = \"So... what's next?: a new adventure or trip to the goa?\"\n",
    "output_text = remove_stop_words(input_texts)\n",
    "print(output_text)"
   ]
  },
  {
   "cell_type": "code",
   "execution_count": 75,
   "id": "c6c18665-a928-4634-b862-f0486299ccc2",
   "metadata": {},
   "outputs": [
    {
     "data": {
      "text/plain": [
       "'of this that osman malla university'"
      ]
     },
     "execution_count": 75,
     "metadata": {},
     "output_type": "execute_result"
    }
   ],
   "source": [
    "remove_stop_words(\"of an the this that osman malla university \")"
   ]
  },
  {
   "cell_type": "code",
   "execution_count": 76,
   "id": "0fedec9b-b8fb-42ab-a369-f2c5377d371e",
   "metadata": {},
   "outputs": [
    {
     "ename": "ModuleNotFoundError",
     "evalue": "No module named 'text_processing'",
     "output_type": "error",
     "traceback": [
      "\u001b[1;31m---------------------------------------------------------------------------\u001b[0m",
      "\u001b[1;31mModuleNotFoundError\u001b[0m                       Traceback (most recent call last)",
      "Cell \u001b[1;32mIn[76], line 1\u001b[0m\n\u001b[1;32m----> 1\u001b[0m \u001b[38;5;28;01mimport\u001b[39;00m \u001b[38;5;21;01mtext_processing\u001b[39;00m\n",
      "\u001b[1;31mModuleNotFoundError\u001b[0m: No module named 'text_processing'"
     ]
    }
   ],
   "source": []
  },
  {
   "cell_type": "code",
   "execution_count": null,
   "id": "2c825da5-576e-49b5-add2-9aa53ecb5741",
   "metadata": {},
   "outputs": [],
   "source": []
  },
  {
   "cell_type": "code",
   "execution_count": null,
   "id": "12e12ff8-5cc0-49a5-80b2-3962aec87f52",
   "metadata": {},
   "outputs": [],
   "source": []
  },
  {
   "cell_type": "code",
   "execution_count": null,
   "id": "00e8889d-4aaa-46ff-ab86-f6cca1abb2c4",
   "metadata": {},
   "outputs": [],
   "source": []
  },
  {
   "cell_type": "code",
   "execution_count": null,
   "id": "bdeef9ac-9d9b-4e38-b864-773f67af9770",
   "metadata": {},
   "outputs": [],
   "source": []
  },
  {
   "cell_type": "code",
   "execution_count": null,
   "id": "c1853fce-89c1-487b-93c1-43e7a84fb3df",
   "metadata": {},
   "outputs": [],
   "source": []
  },
  {
   "cell_type": "code",
   "execution_count": null,
   "id": "46690ab3-ee06-4eed-bf37-31ccae817b1c",
   "metadata": {},
   "outputs": [],
   "source": []
  }
 ],
 "metadata": {
  "kernelspec": {
   "display_name": "Python 3 (ipykernel)",
   "language": "python",
   "name": "python3"
  },
  "language_info": {
   "codemirror_mode": {
    "name": "ipython",
    "version": 3
   },
   "file_extension": ".py",
   "mimetype": "text/x-python",
   "name": "python",
   "nbconvert_exporter": "python",
   "pygments_lexer": "ipython3",
   "version": "3.11.7"
  }
 },
 "nbformat": 4,
 "nbformat_minor": 5
}
