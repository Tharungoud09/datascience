{
 "cells": [
  {
   "cell_type": "code",
   "execution_count": 29,
   "id": "b35db3f8-6091-4926-b314-59a409877e90",
   "metadata": {},
   "outputs": [
    {
     "name": "stdin",
     "output_type": "stream",
     "text": [
      "Enter a positive integer:  8\n"
     ]
    },
    {
     "name": "stdout",
     "output_type": "stream",
     "text": [
      "The sum of all even numbers between 1 and 8 is: 20\n"
     ]
    }
   ],
   "source": [
    "#assignment 4.1\n",
    "def sum_of_even_numbers(n):\n",
    "    total_sum = 0\n",
    "    \n",
    "    for number in range(1, n + 1):\n",
    "        if number % 2 == 0:\n",
    "            total_sum += number\n",
    "    \n",
    "    return total_sum\n",
    "\n",
    "n = int(input(\"Enter a positive integer: \"))\n",
    "\n",
    "result = sum_of_even_numbers(n)\n",
    "\n",
    "\n",
    "print(\"The sum of all even numbers between 1 and\", n,\"is:\",result)"
   ]
  },
  {
   "cell_type": "code",
   "execution_count": null,
   "id": "375c230a-46c9-4ee3-b12e-1b2e3763e10c",
   "metadata": {},
   "outputs": [],
   "source": []
  }
 ],
 "metadata": {
  "kernelspec": {
   "display_name": "Python 3 (ipykernel)",
   "language": "python",
   "name": "python3"
  },
  "language_info": {
   "codemirror_mode": {
    "name": "ipython",
    "version": 3
   },
   "file_extension": ".py",
   "mimetype": "text/x-python",
   "name": "python",
   "nbconvert_exporter": "python",
   "pygments_lexer": "ipython3",
   "version": "3.11.7"
  }
 },
 "nbformat": 4,
 "nbformat_minor": 5
}
